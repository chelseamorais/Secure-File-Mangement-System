{
 "cells": [
  {
   "cell_type": "code",
   "execution_count": 2,
   "id": "3a540404",
   "metadata": {},
   "outputs": [
    {
     "name": "stdout",
     "output_type": "stream",
     "text": [
      "{\"newfile.txt\": [\"Chetan\", \"Chelsea\"]}\n"
     ]
    }
   ],
   "source": [
    "# launch shell, parse commands\n",
    "import json\n",
    "import os\n",
    "import threading\n",
    "\n",
    "with open('WritePermissions.txt') as f:\n",
    "    data = f.read()\n",
    "    print(data)\n",
    "    if data :\n",
    "      file_dictionaryW=json.loads(data)\n",
    "    else:\n",
    "      file_dictionaryW = {}"
   ]
  },
  {
   "cell_type": "code",
   "execution_count": null,
   "id": "051876b2",
   "metadata": {},
   "outputs": [],
   "source": []
  }
 ],
 "metadata": {
  "kernelspec": {
   "display_name": "Python 3 (ipykernel)",
   "language": "python",
   "name": "python3"
  },
  "language_info": {
   "codemirror_mode": {
    "name": "ipython",
    "version": 3
   },
   "file_extension": ".py",
   "mimetype": "text/x-python",
   "name": "python",
   "nbconvert_exporter": "python",
   "pygments_lexer": "ipython3",
   "version": "3.9.7"
  }
 },
 "nbformat": 4,
 "nbformat_minor": 5
}
